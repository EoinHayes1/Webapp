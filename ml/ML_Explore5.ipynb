{
 "cells": [
  {
   "cell_type": "code",
   "execution_count": 143,
   "metadata": {},
   "outputs": [
    {
     "output_type": "stream",
     "name": "stdout",
     "text": [
      "Collecting sklearn\n",
      "  Downloading sklearn-0.0.tar.gz (1.1 kB)\n",
      "Collecting scikit-learn\n",
      "  Downloading scikit_learn-0.24.1-cp38-cp38-win32.whl (6.1 MB)\n",
      "Collecting scipy>=0.19.1\n",
      "  Downloading scipy-1.6.2-cp38-cp38-win32.whl (29.5 MB)\n",
      "Collecting threadpoolctl>=2.0.0\n",
      "  Downloading threadpoolctl-2.1.0-py3-none-any.whl (12 kB)\n",
      "Collecting joblib>=0.11\n",
      "  Downloading joblib-1.0.1-py3-none-any.whl (303 kB)\n",
      "Requirement already satisfied: numpy>=1.13.3 in c:\\users\\rache\\appdata\\local\\programs\\python\\python38-32\\lib\\site-packages (from scikit-learn->sklearn) (1.20.2)\n",
      "Using legacy setup.py install for sklearn, since package 'wheel' is not installed.\n",
      "Installing collected packages: scipy, threadpoolctl, joblib, scikit-learn, sklearn\n",
      "    Running setup.py install for sklearn: started\n",
      "    Running setup.py install for sklearn: finished with status 'done'\n",
      "Successfully installed joblib-1.0.1 scikit-learn-0.24.1 scipy-1.6.2 sklearn-0.0 threadpoolctl-2.1.0\n",
      "Note: you may need to restart the kernel to use updated packages.\n",
      "WARNING: You are using pip version 20.1.1; however, version 21.0.1 is available.\n",
      "You should consider upgrading via the 'C:\\Users\\Rache\\AppData\\Local\\Programs\\Python\\Python38-32\\python.exe -m pip install --upgrade pip' command.\n"
     ]
    }
   ],
   "source": [
    "pip install sklearn"
   ]
  },
  {
   "cell_type": "code",
   "execution_count": 77,
   "metadata": {},
   "outputs": [
    {
     "output_type": "stream",
     "name": "stdout",
     "text": [
      "Collecting patsy\n",
      "  Downloading patsy-0.5.1-py2.py3-none-any.whl (231 kB)\n",
      "Requirement already satisfied: numpy>=1.4 in c:\\users\\rache\\appdata\\local\\programs\\python\\python38-32\\lib\\site-packages (from patsy) (1.20.2)\n",
      "Requirement already satisfied: six in c:\\users\\rache\\appdata\\roaming\\python\\python38\\site-packages (from patsy) (1.15.0)\n",
      "Installing collected packages: patsyNote: you may need to restart the kernel to use updated packages.\n",
      "Successfully installed patsy-0.5.1\n",
      "\n",
      "WARNING: You are using pip version 20.1.1; however, version 21.0.1 is available.\n",
      "You should consider upgrading via the 'C:\\Users\\Rache\\AppData\\Local\\Programs\\Python\\Python38-32\\python.exe -m pip install --upgrade pip' command.\n"
     ]
    }
   ],
   "source": [
    "pip install patsy"
   ]
  },
  {
   "cell_type": "code",
   "execution_count": 78,
   "metadata": {},
   "outputs": [],
   "source": [
    "import pandas as pd\n",
    "import matplotlib.pyplot as plt\n",
    "import numpy as np\n",
    "\n",
    "# Allows plots to appear directly in the notebook.\n",
    "%matplotlib inline\n",
    "\n",
    "from patsy import dmatrices\n",
    "from sklearn.linear_model import LinearRegression\n",
    "from sklearn.model_selection import train_test_split\n",
    "from sklearn import metrics\n",
    "from sklearn.model_selection import cross_validate\n",
    "from sklearn.model_selection import cross_val_score "
   ]
  },
  {
   "cell_type": "code",
   "execution_count": 86,
   "metadata": {},
   "outputs": [],
   "source": [
    "df['weather_main']=df['weather_main'].astype('category')"
   ]
  },
  {
   "cell_type": "code",
   "execution_count": 88,
   "metadata": {},
   "outputs": [
    {
     "output_type": "stream",
     "name": "stdout",
     "text": [
      "\nDescriptive features in X:\n         main_temp\n0          280.78\n1          281.16\n2          280.22\n3          278.85\n4          286.17\n...           ...\n354567     289.75\n354568     283.66\n354569     279.38\n354570     285.55\n354571     282.50\n\n[354572 rows x 1 columns]\n\nTarget feature in y:\n 0         11\n1          7\n2          7\n3          3\n4          0\n          ..\n354567    17\n354568     0\n354569     4\n354570    10\n354571     2\nName: available_bikes, Length: 354572, dtype: int64\n"
     ]
    }
   ],
   "source": [
    "# Prepare the descriptive features\n",
    "#print(df.head(10))\n",
    "X = df[['main_temp']]\n",
    "y = df.available_bikes\n",
    "\n",
    "print(\"\\nDescriptive features in X:\\n\", X)\n",
    "print(\"\\nTarget feature in y:\\n\", y)"
   ]
  },
  {
   "cell_type": "code",
   "execution_count": 89,
   "metadata": {},
   "outputs": [],
   "source": [
    "features = ['main_temp']\n",
    "linreg = LinearRegression().fit(X[features], y)"
   ]
  },
  {
   "cell_type": "code",
   "execution_count": 90,
   "metadata": {},
   "outputs": [
    {
     "output_type": "stream",
     "name": "stdout",
     "text": [
      "Features: \n ['main_temp']\nCoeficients: \n [-0.18861496]\n\nIntercept: \n 62.59048787842343\n"
     ]
    }
   ],
   "source": [
    "print(\"Features: \\n\", features)\n",
    "print(\"Coeficients: \\n\", linreg.coef_)\n",
    "print(\"\\nIntercept: \\n\", linreg.intercept_)"
   ]
  },
  {
   "cell_type": "code",
   "execution_count": 92,
   "metadata": {},
   "outputs": [
    {
     "output_type": "stream",
     "name": "stdout",
     "text": [
      "\nPrediction for first example (main_temp):  280.78 11 9.63118038284427\n"
     ]
    },
    {
     "output_type": "execute_result",
     "data": {
      "text/plain": [
       "        available_bikes  Predicted\n",
       "0                    11   9.631180\n",
       "1                     7   9.559507\n",
       "2                     7   9.736805\n",
       "3                     3   9.995207\n",
       "4                     0   8.614546\n",
       "...                 ...        ...\n",
       "354567               17   7.939304\n",
       "354568                0   9.087969\n",
       "354569                4   9.895241\n",
       "354570               10   8.731487\n",
       "354571                2   9.306763\n",
       "\n",
       "[354572 rows x 2 columns]"
      ],
      "text/html": "<div>\n<style scoped>\n    .dataframe tbody tr th:only-of-type {\n        vertical-align: middle;\n    }\n\n    .dataframe tbody tr th {\n        vertical-align: top;\n    }\n\n    .dataframe thead th {\n        text-align: right;\n    }\n</style>\n<table border=\"1\" class=\"dataframe\">\n  <thead>\n    <tr style=\"text-align: right;\">\n      <th></th>\n      <th>available_bikes</th>\n      <th>Predicted</th>\n    </tr>\n  </thead>\n  <tbody>\n    <tr>\n      <th>0</th>\n      <td>11</td>\n      <td>9.631180</td>\n    </tr>\n    <tr>\n      <th>1</th>\n      <td>7</td>\n      <td>9.559507</td>\n    </tr>\n    <tr>\n      <th>2</th>\n      <td>7</td>\n      <td>9.736805</td>\n    </tr>\n    <tr>\n      <th>3</th>\n      <td>3</td>\n      <td>9.995207</td>\n    </tr>\n    <tr>\n      <th>4</th>\n      <td>0</td>\n      <td>8.614546</td>\n    </tr>\n    <tr>\n      <th>...</th>\n      <td>...</td>\n      <td>...</td>\n    </tr>\n    <tr>\n      <th>354567</th>\n      <td>17</td>\n      <td>7.939304</td>\n    </tr>\n    <tr>\n      <th>354568</th>\n      <td>0</td>\n      <td>9.087969</td>\n    </tr>\n    <tr>\n      <th>354569</th>\n      <td>4</td>\n      <td>9.895241</td>\n    </tr>\n    <tr>\n      <th>354570</th>\n      <td>10</td>\n      <td>8.731487</td>\n    </tr>\n    <tr>\n      <th>354571</th>\n      <td>2</td>\n      <td>9.306763</td>\n    </tr>\n  </tbody>\n</table>\n<p>354572 rows × 2 columns</p>\n</div>"
     },
     "metadata": {},
     "execution_count": 92
    }
   ],
   "source": [
    "# Predicted scores for each example. \n",
    "linreg_predictions = linreg.predict(X[['main_temp']])\n",
    "\n",
    "#print(\"Predicted scores:\", predicted_scores)\n",
    "print(\"\\nPrediction for first example (main_temp): \", X['main_temp'].values[0], y.values[0], linreg_predictions[0])\n",
    "actual_vs_predicted = pd.concat([y, pd.DataFrame(linreg_predictions, columns=['Predicted'], index=y.index)], axis=1)\n",
    "actual_vs_predicted"
   ]
  },
  {
   "cell_type": "code",
   "execution_count": null,
   "metadata": {},
   "outputs": [],
   "source": []
  }
 ],
 "metadata": {
  "kernelspec": {
   "name": "python385jvsc74a57bd0158dcff735c51ddc653f608d3d365f48affd2708fb054892ef5065855a3a1656",
   "display_name": "Python 3.8.5 32-bit"
  },
  "language_info": {
   "codemirror_mode": {
    "name": "ipython",
    "version": 3
   },
   "file_extension": ".py",
   "mimetype": "text/x-python",
   "name": "python",
   "nbconvert_exporter": "python",
   "pygments_lexer": "ipython3",
   "version": "3.8.5-final"
  },
  "metadata": {
   "interpreter": {
    "hash": "158dcff735c51ddc653f608d3d365f48affd2708fb054892ef5065855a3a1656"
   }
  }
 },
 "nbformat": 4,
 "nbformat_minor": 4
}