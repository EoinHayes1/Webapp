{
 "cells": [
  {
   "cell_type": "code",
   "execution_count": 1,
   "metadata": {},
   "outputs": [],
   "source": [
    "#import package for working with csv files\n",
    "import pandas as pd\n",
    "#import numpy for numeric computing \n",
    "import numpy as np\n",
    "#import package for ploting + visualisations \n",
    "import matplotlib.pyplot as plt"
   ]
  },
  {
   "cell_type": "code",
   "execution_count": 2,
   "metadata": {},
   "outputs": [
    {
     "output_type": "stream",
     "name": "stdout",
     "text": [
      "Requirement already satisfied: matplotlib in c:\\users\\rache\\appdata\\local\\programs\\python\\python38-32\\lib\\site-packages (3.4.1)\n",
      "Requirement already satisfied: python-dateutil>=2.7 in c:\\users\\rache\\appdata\\roaming\\python\\python38\\site-packages (from matplotlib) (2.8.1)\n",
      "Requirement already satisfied: numpy>=1.16 in c:\\users\\rache\\appdata\\local\\programs\\python\\python38-32\\lib\\site-packages (from matplotlib) (1.20.2)\n",
      "Requirement already satisfied: pillow>=6.2.0 in c:\\users\\rache\\appdata\\local\\programs\\python\\python38-32\\lib\\site-packages (from matplotlib) (8.2.0)\n",
      "Requirement already satisfied: cycler>=0.10 in c:\\users\\rache\\appdata\\local\\programs\\python\\python38-32\\lib\\site-packages (from matplotlib) (0.10.0)\n",
      "Requirement already satisfied: pyparsing>=2.2.1 in c:\\users\\rache\\appdata\\local\\programs\\python\\python38-32\\lib\\site-packages (from matplotlib) (2.4.7)\n",
      "Requirement already satisfied: kiwisolver>=1.0.1 in c:\\users\\rache\\appdata\\local\\programs\\python\\python38-32\\lib\\site-packages (from matplotlib) (1.3.1)\n",
      "Requirement already satisfied: six>=1.5 in c:\\users\\rache\\appdata\\roaming\\python\\python38\\site-packages (from python-dateutil>=2.7->matplotlib) (1.15.0)\n",
      "Note: you may need to restart the kernel to use updated packages.\n",
      "WARNING: You are using pip version 20.1.1; however, version 21.0.1 is available.\n",
      "You should consider upgrading via the 'C:\\Users\\Rache\\AppData\\Local\\Programs\\Python\\Python38-32\\python.exe -m pip install --upgrade pip' command.\n"
     ]
    }
   ],
   "source": [
    "pip install matplotlib"
   ]
  },
  {
   "cell_type": "code",
   "execution_count": 3,
   "metadata": {},
   "outputs": [],
   "source": [
    "#read data from file and save in variable df.\n",
    "df = pd.read_csv(r'C:\\Users\\Rache\\OneDrive\\Documents\\comp30670SE\\Andrewsorigdata.csv')"
   ]
  },
  {
   "cell_type": "code",
   "execution_count": 4,
   "metadata": {},
   "outputs": [
    {
     "output_type": "execute_result",
     "data": {
      "text/plain": [
       "(531860, 14)"
      ]
     },
     "metadata": {},
     "execution_count": 4
    }
   ],
   "source": [
    "df.shape"
   ]
  },
  {
   "cell_type": "code",
   "execution_count": 5,
   "metadata": {},
   "outputs": [
    {
     "output_type": "execute_result",
     "data": {
      "text/plain": [
       "   number  available_bike_stands  available_bikes  weather_id weather_main  \\\n",
       "0       2                     13                7         802       Clouds   \n",
       "1       2                     12                8         802       Clouds   \n",
       "2       2                     12                8         802       Clouds   \n",
       "3       2                     13                7         802       Clouds   \n",
       "4       2                     13                7         802       Clouds   \n",
       "\n",
       "   main_temp  main_feels_like  main_temp_max  main_temp_min  main_pressure  \\\n",
       "0     284.35           280.55         284.82         283.71           1030   \n",
       "1     284.44           280.65         284.82         283.71           1030   \n",
       "2     284.35           280.55         284.82         283.71           1030   \n",
       "3     284.44           280.65         284.82         283.71           1030   \n",
       "4     284.35           280.55         284.82         283.71           1030   \n",
       "\n",
       "   main_humidity  wind_speed                dt             test1  \n",
       "0             62         3.6  21/03/2021 14:20  21/03/2021 14:15  \n",
       "1             62         3.6  21/03/2021 14:35  21/03/2021 14:30  \n",
       "2             62         3.6  21/03/2021 14:26  21/03/2021 14:30  \n",
       "3             62         3.6  21/03/2021 14:35  21/03/2021 14:30  \n",
       "4             62         3.6  21/03/2021 14:26  21/03/2021 14:30  "
      ],
      "text/html": "<div>\n<style scoped>\n    .dataframe tbody tr th:only-of-type {\n        vertical-align: middle;\n    }\n\n    .dataframe tbody tr th {\n        vertical-align: top;\n    }\n\n    .dataframe thead th {\n        text-align: right;\n    }\n</style>\n<table border=\"1\" class=\"dataframe\">\n  <thead>\n    <tr style=\"text-align: right;\">\n      <th></th>\n      <th>number</th>\n      <th>available_bike_stands</th>\n      <th>available_bikes</th>\n      <th>weather_id</th>\n      <th>weather_main</th>\n      <th>main_temp</th>\n      <th>main_feels_like</th>\n      <th>main_temp_max</th>\n      <th>main_temp_min</th>\n      <th>main_pressure</th>\n      <th>main_humidity</th>\n      <th>wind_speed</th>\n      <th>dt</th>\n      <th>test1</th>\n    </tr>\n  </thead>\n  <tbody>\n    <tr>\n      <th>0</th>\n      <td>2</td>\n      <td>13</td>\n      <td>7</td>\n      <td>802</td>\n      <td>Clouds</td>\n      <td>284.35</td>\n      <td>280.55</td>\n      <td>284.82</td>\n      <td>283.71</td>\n      <td>1030</td>\n      <td>62</td>\n      <td>3.6</td>\n      <td>21/03/2021 14:20</td>\n      <td>21/03/2021 14:15</td>\n    </tr>\n    <tr>\n      <th>1</th>\n      <td>2</td>\n      <td>12</td>\n      <td>8</td>\n      <td>802</td>\n      <td>Clouds</td>\n      <td>284.44</td>\n      <td>280.65</td>\n      <td>284.82</td>\n      <td>283.71</td>\n      <td>1030</td>\n      <td>62</td>\n      <td>3.6</td>\n      <td>21/03/2021 14:35</td>\n      <td>21/03/2021 14:30</td>\n    </tr>\n    <tr>\n      <th>2</th>\n      <td>2</td>\n      <td>12</td>\n      <td>8</td>\n      <td>802</td>\n      <td>Clouds</td>\n      <td>284.35</td>\n      <td>280.55</td>\n      <td>284.82</td>\n      <td>283.71</td>\n      <td>1030</td>\n      <td>62</td>\n      <td>3.6</td>\n      <td>21/03/2021 14:26</td>\n      <td>21/03/2021 14:30</td>\n    </tr>\n    <tr>\n      <th>3</th>\n      <td>2</td>\n      <td>13</td>\n      <td>7</td>\n      <td>802</td>\n      <td>Clouds</td>\n      <td>284.44</td>\n      <td>280.65</td>\n      <td>284.82</td>\n      <td>283.71</td>\n      <td>1030</td>\n      <td>62</td>\n      <td>3.6</td>\n      <td>21/03/2021 14:35</td>\n      <td>21/03/2021 14:30</td>\n    </tr>\n    <tr>\n      <th>4</th>\n      <td>2</td>\n      <td>13</td>\n      <td>7</td>\n      <td>802</td>\n      <td>Clouds</td>\n      <td>284.35</td>\n      <td>280.55</td>\n      <td>284.82</td>\n      <td>283.71</td>\n      <td>1030</td>\n      <td>62</td>\n      <td>3.6</td>\n      <td>21/03/2021 14:26</td>\n      <td>21/03/2021 14:30</td>\n    </tr>\n  </tbody>\n</table>\n</div>"
     },
     "metadata": {},
     "execution_count": 5
    }
   ],
   "source": [
    "df.head()"
   ]
  },
  {
   "cell_type": "code",
   "execution_count": 6,
   "metadata": {},
   "outputs": [],
   "source": [
    "dfj =df.sample(frac=1).reset_index(drop=True)"
   ]
  },
  {
   "cell_type": "code",
   "execution_count": 7,
   "metadata": {},
   "outputs": [
    {
     "output_type": "execute_result",
     "data": {
      "text/plain": [
       "   number  available_bike_stands  available_bikes  weather_id weather_main  \\\n",
       "0      56                     29               11         803       Clouds   \n",
       "1      58                     29               11         803       Clouds   \n",
       "2      19                     23                7         803       Clouds   \n",
       "3      61                     18                7         800        Clear   \n",
       "4      53                     37                3         803       Clouds   \n",
       "\n",
       "   main_temp  main_feels_like  main_temp_max  main_temp_min  main_pressure  \\\n",
       "0     286.34           281.03         286.48         285.93           1009   \n",
       "1     280.78           274.91         281.15         280.15           1034   \n",
       "2     281.16           278.41         282.04         280.15           1026   \n",
       "3     280.22           276.22         280.93         278.71           1013   \n",
       "4     278.85           275.54         279.26         278.15           1032   \n",
       "\n",
       "   main_humidity  wind_speed                dt             test1  \n",
       "0             82        7.72  28/03/2021 18:35  28/03/2021 18:30  \n",
       "1             71        6.17  02/04/2021 12:13  02/04/2021 12:15  \n",
       "2             76        2.06  22/03/2021 05:29  22/03/2021 05:30  \n",
       "3             87        4.12  25/03/2021 04:18  25/03/2021 04:15  \n",
       "4             81        4.63  02/04/2021 07:18  02/04/2021 07:15  "
      ],
      "text/html": "<div>\n<style scoped>\n    .dataframe tbody tr th:only-of-type {\n        vertical-align: middle;\n    }\n\n    .dataframe tbody tr th {\n        vertical-align: top;\n    }\n\n    .dataframe thead th {\n        text-align: right;\n    }\n</style>\n<table border=\"1\" class=\"dataframe\">\n  <thead>\n    <tr style=\"text-align: right;\">\n      <th></th>\n      <th>number</th>\n      <th>available_bike_stands</th>\n      <th>available_bikes</th>\n      <th>weather_id</th>\n      <th>weather_main</th>\n      <th>main_temp</th>\n      <th>main_feels_like</th>\n      <th>main_temp_max</th>\n      <th>main_temp_min</th>\n      <th>main_pressure</th>\n      <th>main_humidity</th>\n      <th>wind_speed</th>\n      <th>dt</th>\n      <th>test1</th>\n    </tr>\n  </thead>\n  <tbody>\n    <tr>\n      <th>0</th>\n      <td>56</td>\n      <td>29</td>\n      <td>11</td>\n      <td>803</td>\n      <td>Clouds</td>\n      <td>286.34</td>\n      <td>281.03</td>\n      <td>286.48</td>\n      <td>285.93</td>\n      <td>1009</td>\n      <td>82</td>\n      <td>7.72</td>\n      <td>28/03/2021 18:35</td>\n      <td>28/03/2021 18:30</td>\n    </tr>\n    <tr>\n      <th>1</th>\n      <td>58</td>\n      <td>29</td>\n      <td>11</td>\n      <td>803</td>\n      <td>Clouds</td>\n      <td>280.78</td>\n      <td>274.91</td>\n      <td>281.15</td>\n      <td>280.15</td>\n      <td>1034</td>\n      <td>71</td>\n      <td>6.17</td>\n      <td>02/04/2021 12:13</td>\n      <td>02/04/2021 12:15</td>\n    </tr>\n    <tr>\n      <th>2</th>\n      <td>19</td>\n      <td>23</td>\n      <td>7</td>\n      <td>803</td>\n      <td>Clouds</td>\n      <td>281.16</td>\n      <td>278.41</td>\n      <td>282.04</td>\n      <td>280.15</td>\n      <td>1026</td>\n      <td>76</td>\n      <td>2.06</td>\n      <td>22/03/2021 05:29</td>\n      <td>22/03/2021 05:30</td>\n    </tr>\n    <tr>\n      <th>3</th>\n      <td>61</td>\n      <td>18</td>\n      <td>7</td>\n      <td>800</td>\n      <td>Clear</td>\n      <td>280.22</td>\n      <td>276.22</td>\n      <td>280.93</td>\n      <td>278.71</td>\n      <td>1013</td>\n      <td>87</td>\n      <td>4.12</td>\n      <td>25/03/2021 04:18</td>\n      <td>25/03/2021 04:15</td>\n    </tr>\n    <tr>\n      <th>4</th>\n      <td>53</td>\n      <td>37</td>\n      <td>3</td>\n      <td>803</td>\n      <td>Clouds</td>\n      <td>278.85</td>\n      <td>275.54</td>\n      <td>279.26</td>\n      <td>278.15</td>\n      <td>1032</td>\n      <td>81</td>\n      <td>4.63</td>\n      <td>02/04/2021 07:18</td>\n      <td>02/04/2021 07:15</td>\n    </tr>\n  </tbody>\n</table>\n</div>"
     },
     "metadata": {},
     "execution_count": 7
    }
   ],
   "source": [
    "dfj.head()"
   ]
  },
  {
   "cell_type": "code",
   "execution_count": 8,
   "metadata": {},
   "outputs": [
    {
     "output_type": "execute_result",
     "data": {
      "text/plain": [
       "(531860, 14)"
      ]
     },
     "metadata": {},
     "execution_count": 8
    }
   ],
   "source": [
    "dfj.shape\n"
   ]
  },
  {
   "cell_type": "code",
   "execution_count": 9,
   "metadata": {},
   "outputs": [],
   "source": [
    "#2 thirds saved for trinaing data\n",
    "dftrain=dfj.iloc[1:354573, 0:14]\n"
   ]
  },
  {
   "cell_type": "code",
   "execution_count": 10,
   "metadata": {},
   "outputs": [
    {
     "output_type": "execute_result",
     "data": {
      "text/plain": [
       "(354572, 14)"
      ]
     },
     "metadata": {},
     "execution_count": 10
    }
   ],
   "source": [
    "dftrain.shape\n"
   ]
  },
  {
   "cell_type": "code",
   "execution_count": 11,
   "metadata": {},
   "outputs": [],
   "source": [
    "\n",
    "#one third saved for testing \n",
    "dftest=dfj.iloc[354573:531860, 0:14]"
   ]
  },
  {
   "cell_type": "code",
   "execution_count": 12,
   "metadata": {},
   "outputs": [
    {
     "output_type": "execute_result",
     "data": {
      "text/plain": [
       "(177287, 14)"
      ]
     },
     "metadata": {},
     "execution_count": 12
    }
   ],
   "source": [
    "dftest.shape"
   ]
  },
  {
   "cell_type": "code",
   "execution_count": 13,
   "metadata": {},
   "outputs": [
    {
     "output_type": "execute_result",
     "data": {
      "text/plain": [
       "        number  available_bike_stands  available_bikes  weather_id  \\\n",
       "354573      56                     32                8         803   \n",
       "354574      95                     29               11         801   \n",
       "354575      24                     13                7         802   \n",
       "354576       7                     24                5         800   \n",
       "354577      36                     21               19         802   \n",
       "\n",
       "       weather_main  main_temp  main_feels_like  main_temp_max  main_temp_min  \\\n",
       "354573       Clouds     279.82           275.91         280.37         279.15   \n",
       "354574       Clouds     288.63           286.28         290.15         287.15   \n",
       "354575       Clouds     284.34           277.47         285.15         283.15   \n",
       "354576        Clear     280.29           276.67         280.93         279.15   \n",
       "354577       Clouds     284.57           281.16         285.37         282.59   \n",
       "\n",
       "        main_pressure  main_humidity  wind_speed                dt  \\\n",
       "354573           1016             81        3.60  24/03/2021 03:53   \n",
       "354574           1023             72        3.60  30/03/2021 15:40   \n",
       "354575           1006             66        8.23  25/03/2021 17:55   \n",
       "354576           1015             87        3.60  25/03/2021 00:46   \n",
       "354577           1030             62        3.09  21/03/2021 15:25   \n",
       "\n",
       "                   test1  \n",
       "354573  24/03/2021 04:00  \n",
       "354574  30/03/2021 15:45  \n",
       "354575  25/03/2021 18:00  \n",
       "354576  25/03/2021 00:45  \n",
       "354577  21/03/2021 15:30  "
      ],
      "text/html": "<div>\n<style scoped>\n    .dataframe tbody tr th:only-of-type {\n        vertical-align: middle;\n    }\n\n    .dataframe tbody tr th {\n        vertical-align: top;\n    }\n\n    .dataframe thead th {\n        text-align: right;\n    }\n</style>\n<table border=\"1\" class=\"dataframe\">\n  <thead>\n    <tr style=\"text-align: right;\">\n      <th></th>\n      <th>number</th>\n      <th>available_bike_stands</th>\n      <th>available_bikes</th>\n      <th>weather_id</th>\n      <th>weather_main</th>\n      <th>main_temp</th>\n      <th>main_feels_like</th>\n      <th>main_temp_max</th>\n      <th>main_temp_min</th>\n      <th>main_pressure</th>\n      <th>main_humidity</th>\n      <th>wind_speed</th>\n      <th>dt</th>\n      <th>test1</th>\n    </tr>\n  </thead>\n  <tbody>\n    <tr>\n      <th>354573</th>\n      <td>56</td>\n      <td>32</td>\n      <td>8</td>\n      <td>803</td>\n      <td>Clouds</td>\n      <td>279.82</td>\n      <td>275.91</td>\n      <td>280.37</td>\n      <td>279.15</td>\n      <td>1016</td>\n      <td>81</td>\n      <td>3.60</td>\n      <td>24/03/2021 03:53</td>\n      <td>24/03/2021 04:00</td>\n    </tr>\n    <tr>\n      <th>354574</th>\n      <td>95</td>\n      <td>29</td>\n      <td>11</td>\n      <td>801</td>\n      <td>Clouds</td>\n      <td>288.63</td>\n      <td>286.28</td>\n      <td>290.15</td>\n      <td>287.15</td>\n      <td>1023</td>\n      <td>72</td>\n      <td>3.60</td>\n      <td>30/03/2021 15:40</td>\n      <td>30/03/2021 15:45</td>\n    </tr>\n    <tr>\n      <th>354575</th>\n      <td>24</td>\n      <td>13</td>\n      <td>7</td>\n      <td>802</td>\n      <td>Clouds</td>\n      <td>284.34</td>\n      <td>277.47</td>\n      <td>285.15</td>\n      <td>283.15</td>\n      <td>1006</td>\n      <td>66</td>\n      <td>8.23</td>\n      <td>25/03/2021 17:55</td>\n      <td>25/03/2021 18:00</td>\n    </tr>\n    <tr>\n      <th>354576</th>\n      <td>7</td>\n      <td>24</td>\n      <td>5</td>\n      <td>800</td>\n      <td>Clear</td>\n      <td>280.29</td>\n      <td>276.67</td>\n      <td>280.93</td>\n      <td>279.15</td>\n      <td>1015</td>\n      <td>87</td>\n      <td>3.60</td>\n      <td>25/03/2021 00:46</td>\n      <td>25/03/2021 00:45</td>\n    </tr>\n    <tr>\n      <th>354577</th>\n      <td>36</td>\n      <td>21</td>\n      <td>19</td>\n      <td>802</td>\n      <td>Clouds</td>\n      <td>284.57</td>\n      <td>281.16</td>\n      <td>285.37</td>\n      <td>282.59</td>\n      <td>1030</td>\n      <td>62</td>\n      <td>3.09</td>\n      <td>21/03/2021 15:25</td>\n      <td>21/03/2021 15:30</td>\n    </tr>\n  </tbody>\n</table>\n</div>"
     },
     "metadata": {},
     "execution_count": 13
    }
   ],
   "source": [
    "dftest.head()\n"
   ]
  },
  {
   "cell_type": "code",
   "execution_count": 14,
   "metadata": {},
   "outputs": [
    {
     "output_type": "execute_result",
     "data": {
      "text/plain": [
       "   number  available_bike_stands  available_bikes  weather_id weather_main  \\\n",
       "1      58                     29               11         803       Clouds   \n",
       "2      19                     23                7         803       Clouds   \n",
       "3      61                     18                7         800        Clear   \n",
       "4      53                     37                3         803       Clouds   \n",
       "5      98                     40                0         801       Clouds   \n",
       "\n",
       "   main_temp  main_feels_like  main_temp_max  main_temp_min  main_pressure  \\\n",
       "1     280.78           274.91         281.15         280.15           1034   \n",
       "2     281.16           278.41         282.04         280.15           1026   \n",
       "3     280.22           276.22         280.93         278.71           1013   \n",
       "4     278.85           275.54         279.26         278.15           1032   \n",
       "5     286.17           285.15         286.48         285.37           1026   \n",
       "\n",
       "   main_humidity  wind_speed                dt             test1  \n",
       "1             71        6.17  02/04/2021 12:13  02/04/2021 12:15  \n",
       "2             76        2.06  22/03/2021 05:29  22/03/2021 05:30  \n",
       "3             87        4.12  25/03/2021 04:18  25/03/2021 04:15  \n",
       "4             81        4.63  02/04/2021 07:18  02/04/2021 07:15  \n",
       "5             62        8.23  04/04/2021 13:35  04/04/2021 13:30  "
      ],
      "text/html": "<div>\n<style scoped>\n    .dataframe tbody tr th:only-of-type {\n        vertical-align: middle;\n    }\n\n    .dataframe tbody tr th {\n        vertical-align: top;\n    }\n\n    .dataframe thead th {\n        text-align: right;\n    }\n</style>\n<table border=\"1\" class=\"dataframe\">\n  <thead>\n    <tr style=\"text-align: right;\">\n      <th></th>\n      <th>number</th>\n      <th>available_bike_stands</th>\n      <th>available_bikes</th>\n      <th>weather_id</th>\n      <th>weather_main</th>\n      <th>main_temp</th>\n      <th>main_feels_like</th>\n      <th>main_temp_max</th>\n      <th>main_temp_min</th>\n      <th>main_pressure</th>\n      <th>main_humidity</th>\n      <th>wind_speed</th>\n      <th>dt</th>\n      <th>test1</th>\n    </tr>\n  </thead>\n  <tbody>\n    <tr>\n      <th>1</th>\n      <td>58</td>\n      <td>29</td>\n      <td>11</td>\n      <td>803</td>\n      <td>Clouds</td>\n      <td>280.78</td>\n      <td>274.91</td>\n      <td>281.15</td>\n      <td>280.15</td>\n      <td>1034</td>\n      <td>71</td>\n      <td>6.17</td>\n      <td>02/04/2021 12:13</td>\n      <td>02/04/2021 12:15</td>\n    </tr>\n    <tr>\n      <th>2</th>\n      <td>19</td>\n      <td>23</td>\n      <td>7</td>\n      <td>803</td>\n      <td>Clouds</td>\n      <td>281.16</td>\n      <td>278.41</td>\n      <td>282.04</td>\n      <td>280.15</td>\n      <td>1026</td>\n      <td>76</td>\n      <td>2.06</td>\n      <td>22/03/2021 05:29</td>\n      <td>22/03/2021 05:30</td>\n    </tr>\n    <tr>\n      <th>3</th>\n      <td>61</td>\n      <td>18</td>\n      <td>7</td>\n      <td>800</td>\n      <td>Clear</td>\n      <td>280.22</td>\n      <td>276.22</td>\n      <td>280.93</td>\n      <td>278.71</td>\n      <td>1013</td>\n      <td>87</td>\n      <td>4.12</td>\n      <td>25/03/2021 04:18</td>\n      <td>25/03/2021 04:15</td>\n    </tr>\n    <tr>\n      <th>4</th>\n      <td>53</td>\n      <td>37</td>\n      <td>3</td>\n      <td>803</td>\n      <td>Clouds</td>\n      <td>278.85</td>\n      <td>275.54</td>\n      <td>279.26</td>\n      <td>278.15</td>\n      <td>1032</td>\n      <td>81</td>\n      <td>4.63</td>\n      <td>02/04/2021 07:18</td>\n      <td>02/04/2021 07:15</td>\n    </tr>\n    <tr>\n      <th>5</th>\n      <td>98</td>\n      <td>40</td>\n      <td>0</td>\n      <td>801</td>\n      <td>Clouds</td>\n      <td>286.17</td>\n      <td>285.15</td>\n      <td>286.48</td>\n      <td>285.37</td>\n      <td>1026</td>\n      <td>62</td>\n      <td>8.23</td>\n      <td>04/04/2021 13:35</td>\n      <td>04/04/2021 13:30</td>\n    </tr>\n  </tbody>\n</table>\n</div>"
     },
     "metadata": {},
     "execution_count": 14
    }
   ],
   "source": [
    "dftrain.head()"
   ]
  },
  {
   "cell_type": "code",
   "execution_count": 15,
   "metadata": {},
   "outputs": [],
   "source": [
    "#save updated file for training data on. \n",
    "dftrain.to_csv(r'C:\\Users\\Rache\\OneDrive\\Documents\\comp30670SE\\traindatajumbleAnew.csv')"
   ]
  },
  {
   "cell_type": "code",
   "execution_count": 16,
   "metadata": {},
   "outputs": [],
   "source": [
    "#save updated file for testing model on\n",
    "dftest.to_csv(r'C:\\Users\\Rache\\OneDrive\\Documents\\comp30670SE\\testdatajumbleAnew.csv')"
   ]
  },
  {
   "cell_type": "code",
   "execution_count": 17,
   "metadata": {},
   "outputs": [],
   "source": [
    "df=pd.read_csv(r'C:\\Users\\Rache\\OneDrive\\Documents\\comp30670SE\\traindatajumbleAnew.csv')"
   ]
  },
  {
   "cell_type": "code",
   "execution_count": 18,
   "metadata": {},
   "outputs": [
    {
     "output_type": "execute_result",
     "data": {
      "text/plain": [
       "   Unnamed: 0  number  available_bike_stands  available_bikes  weather_id  \\\n",
       "0           1      58                     29               11         803   \n",
       "1           2      19                     23                7         803   \n",
       "2           3      61                     18                7         800   \n",
       "3           4      53                     37                3         803   \n",
       "4           5      98                     40                0         801   \n",
       "\n",
       "  weather_main  main_temp  main_feels_like  main_temp_max  main_temp_min  \\\n",
       "0       Clouds     280.78           274.91         281.15         280.15   \n",
       "1       Clouds     281.16           278.41         282.04         280.15   \n",
       "2        Clear     280.22           276.22         280.93         278.71   \n",
       "3       Clouds     278.85           275.54         279.26         278.15   \n",
       "4       Clouds     286.17           285.15         286.48         285.37   \n",
       "\n",
       "   main_pressure  main_humidity  wind_speed                dt  \\\n",
       "0           1034             71        6.17  02/04/2021 12:13   \n",
       "1           1026             76        2.06  22/03/2021 05:29   \n",
       "2           1013             87        4.12  25/03/2021 04:18   \n",
       "3           1032             81        4.63  02/04/2021 07:18   \n",
       "4           1026             62        8.23  04/04/2021 13:35   \n",
       "\n",
       "              test1  \n",
       "0  02/04/2021 12:15  \n",
       "1  22/03/2021 05:30  \n",
       "2  25/03/2021 04:15  \n",
       "3  02/04/2021 07:15  \n",
       "4  04/04/2021 13:30  "
      ],
      "text/html": "<div>\n<style scoped>\n    .dataframe tbody tr th:only-of-type {\n        vertical-align: middle;\n    }\n\n    .dataframe tbody tr th {\n        vertical-align: top;\n    }\n\n    .dataframe thead th {\n        text-align: right;\n    }\n</style>\n<table border=\"1\" class=\"dataframe\">\n  <thead>\n    <tr style=\"text-align: right;\">\n      <th></th>\n      <th>Unnamed: 0</th>\n      <th>number</th>\n      <th>available_bike_stands</th>\n      <th>available_bikes</th>\n      <th>weather_id</th>\n      <th>weather_main</th>\n      <th>main_temp</th>\n      <th>main_feels_like</th>\n      <th>main_temp_max</th>\n      <th>main_temp_min</th>\n      <th>main_pressure</th>\n      <th>main_humidity</th>\n      <th>wind_speed</th>\n      <th>dt</th>\n      <th>test1</th>\n    </tr>\n  </thead>\n  <tbody>\n    <tr>\n      <th>0</th>\n      <td>1</td>\n      <td>58</td>\n      <td>29</td>\n      <td>11</td>\n      <td>803</td>\n      <td>Clouds</td>\n      <td>280.78</td>\n      <td>274.91</td>\n      <td>281.15</td>\n      <td>280.15</td>\n      <td>1034</td>\n      <td>71</td>\n      <td>6.17</td>\n      <td>02/04/2021 12:13</td>\n      <td>02/04/2021 12:15</td>\n    </tr>\n    <tr>\n      <th>1</th>\n      <td>2</td>\n      <td>19</td>\n      <td>23</td>\n      <td>7</td>\n      <td>803</td>\n      <td>Clouds</td>\n      <td>281.16</td>\n      <td>278.41</td>\n      <td>282.04</td>\n      <td>280.15</td>\n      <td>1026</td>\n      <td>76</td>\n      <td>2.06</td>\n      <td>22/03/2021 05:29</td>\n      <td>22/03/2021 05:30</td>\n    </tr>\n    <tr>\n      <th>2</th>\n      <td>3</td>\n      <td>61</td>\n      <td>18</td>\n      <td>7</td>\n      <td>800</td>\n      <td>Clear</td>\n      <td>280.22</td>\n      <td>276.22</td>\n      <td>280.93</td>\n      <td>278.71</td>\n      <td>1013</td>\n      <td>87</td>\n      <td>4.12</td>\n      <td>25/03/2021 04:18</td>\n      <td>25/03/2021 04:15</td>\n    </tr>\n    <tr>\n      <th>3</th>\n      <td>4</td>\n      <td>53</td>\n      <td>37</td>\n      <td>3</td>\n      <td>803</td>\n      <td>Clouds</td>\n      <td>278.85</td>\n      <td>275.54</td>\n      <td>279.26</td>\n      <td>278.15</td>\n      <td>1032</td>\n      <td>81</td>\n      <td>4.63</td>\n      <td>02/04/2021 07:18</td>\n      <td>02/04/2021 07:15</td>\n    </tr>\n    <tr>\n      <th>4</th>\n      <td>5</td>\n      <td>98</td>\n      <td>40</td>\n      <td>0</td>\n      <td>801</td>\n      <td>Clouds</td>\n      <td>286.17</td>\n      <td>285.15</td>\n      <td>286.48</td>\n      <td>285.37</td>\n      <td>1026</td>\n      <td>62</td>\n      <td>8.23</td>\n      <td>04/04/2021 13:35</td>\n      <td>04/04/2021 13:30</td>\n    </tr>\n  </tbody>\n</table>\n</div>"
     },
     "metadata": {},
     "execution_count": 18
    }
   ],
   "source": [
    "df.head()"
   ]
  },
  {
   "cell_type": "code",
   "execution_count": 19,
   "metadata": {},
   "outputs": [],
   "source": [
    "df=df.drop([\"Unnamed: 0\"],axis=1)"
   ]
  },
  {
   "cell_type": "code",
   "execution_count": 20,
   "metadata": {},
   "outputs": [
    {
     "output_type": "execute_result",
     "data": {
      "text/plain": [
       "   number  available_bike_stands  available_bikes  weather_id weather_main  \\\n",
       "0      58                     29               11         803       Clouds   \n",
       "1      19                     23                7         803       Clouds   \n",
       "2      61                     18                7         800        Clear   \n",
       "3      53                     37                3         803       Clouds   \n",
       "4      98                     40                0         801       Clouds   \n",
       "\n",
       "   main_temp  main_feels_like  main_temp_max  main_temp_min  main_pressure  \\\n",
       "0     280.78           274.91         281.15         280.15           1034   \n",
       "1     281.16           278.41         282.04         280.15           1026   \n",
       "2     280.22           276.22         280.93         278.71           1013   \n",
       "3     278.85           275.54         279.26         278.15           1032   \n",
       "4     286.17           285.15         286.48         285.37           1026   \n",
       "\n",
       "   main_humidity  wind_speed                dt             test1  \n",
       "0             71        6.17  02/04/2021 12:13  02/04/2021 12:15  \n",
       "1             76        2.06  22/03/2021 05:29  22/03/2021 05:30  \n",
       "2             87        4.12  25/03/2021 04:18  25/03/2021 04:15  \n",
       "3             81        4.63  02/04/2021 07:18  02/04/2021 07:15  \n",
       "4             62        8.23  04/04/2021 13:35  04/04/2021 13:30  "
      ],
      "text/html": "<div>\n<style scoped>\n    .dataframe tbody tr th:only-of-type {\n        vertical-align: middle;\n    }\n\n    .dataframe tbody tr th {\n        vertical-align: top;\n    }\n\n    .dataframe thead th {\n        text-align: right;\n    }\n</style>\n<table border=\"1\" class=\"dataframe\">\n  <thead>\n    <tr style=\"text-align: right;\">\n      <th></th>\n      <th>number</th>\n      <th>available_bike_stands</th>\n      <th>available_bikes</th>\n      <th>weather_id</th>\n      <th>weather_main</th>\n      <th>main_temp</th>\n      <th>main_feels_like</th>\n      <th>main_temp_max</th>\n      <th>main_temp_min</th>\n      <th>main_pressure</th>\n      <th>main_humidity</th>\n      <th>wind_speed</th>\n      <th>dt</th>\n      <th>test1</th>\n    </tr>\n  </thead>\n  <tbody>\n    <tr>\n      <th>0</th>\n      <td>58</td>\n      <td>29</td>\n      <td>11</td>\n      <td>803</td>\n      <td>Clouds</td>\n      <td>280.78</td>\n      <td>274.91</td>\n      <td>281.15</td>\n      <td>280.15</td>\n      <td>1034</td>\n      <td>71</td>\n      <td>6.17</td>\n      <td>02/04/2021 12:13</td>\n      <td>02/04/2021 12:15</td>\n    </tr>\n    <tr>\n      <th>1</th>\n      <td>19</td>\n      <td>23</td>\n      <td>7</td>\n      <td>803</td>\n      <td>Clouds</td>\n      <td>281.16</td>\n      <td>278.41</td>\n      <td>282.04</td>\n      <td>280.15</td>\n      <td>1026</td>\n      <td>76</td>\n      <td>2.06</td>\n      <td>22/03/2021 05:29</td>\n      <td>22/03/2021 05:30</td>\n    </tr>\n    <tr>\n      <th>2</th>\n      <td>61</td>\n      <td>18</td>\n      <td>7</td>\n      <td>800</td>\n      <td>Clear</td>\n      <td>280.22</td>\n      <td>276.22</td>\n      <td>280.93</td>\n      <td>278.71</td>\n      <td>1013</td>\n      <td>87</td>\n      <td>4.12</td>\n      <td>25/03/2021 04:18</td>\n      <td>25/03/2021 04:15</td>\n    </tr>\n    <tr>\n      <th>3</th>\n      <td>53</td>\n      <td>37</td>\n      <td>3</td>\n      <td>803</td>\n      <td>Clouds</td>\n      <td>278.85</td>\n      <td>275.54</td>\n      <td>279.26</td>\n      <td>278.15</td>\n      <td>1032</td>\n      <td>81</td>\n      <td>4.63</td>\n      <td>02/04/2021 07:18</td>\n      <td>02/04/2021 07:15</td>\n    </tr>\n    <tr>\n      <th>4</th>\n      <td>98</td>\n      <td>40</td>\n      <td>0</td>\n      <td>801</td>\n      <td>Clouds</td>\n      <td>286.17</td>\n      <td>285.15</td>\n      <td>286.48</td>\n      <td>285.37</td>\n      <td>1026</td>\n      <td>62</td>\n      <td>8.23</td>\n      <td>04/04/2021 13:35</td>\n      <td>04/04/2021 13:30</td>\n    </tr>\n  </tbody>\n</table>\n</div>"
     },
     "metadata": {},
     "execution_count": 20
    }
   ],
   "source": [
    "df.head()"
   ]
  },
  {
   "cell_type": "code",
   "execution_count": 21,
   "metadata": {},
   "outputs": [
    {
     "output_type": "execute_result",
     "data": {
      "text/plain": [
       "number                     int64\n",
       "available_bike_stands      int64\n",
       "available_bikes            int64\n",
       "weather_id                 int64\n",
       "weather_main              object\n",
       "main_temp                float64\n",
       "main_feels_like          float64\n",
       "main_temp_max            float64\n",
       "main_temp_min            float64\n",
       "main_pressure              int64\n",
       "main_humidity              int64\n",
       "wind_speed               float64\n",
       "dt                        object\n",
       "test1                     object\n",
       "dtype: object"
      ]
     },
     "metadata": {},
     "execution_count": 21
    }
   ],
   "source": [
    "df.dtypes"
   ]
  },
  {
   "cell_type": "code",
   "execution_count": 22,
   "metadata": {},
   "outputs": [],
   "source": [
    "df['weather_main']=df['weather_main'].astype('category')"
   ]
  },
  {
   "cell_type": "code",
   "execution_count": 23,
   "metadata": {},
   "outputs": [],
   "source": [
    "df['dt']=df['dt'].apply(pd.to_datetime) "
   ]
  },
  {
   "cell_type": "code",
   "execution_count": 24,
   "metadata": {},
   "outputs": [
    {
     "output_type": "execute_result",
     "data": {
      "text/plain": [
       "number                            int64\n",
       "available_bike_stands             int64\n",
       "available_bikes                   int64\n",
       "weather_id                        int64\n",
       "weather_main                   category\n",
       "main_temp                       float64\n",
       "main_feels_like                 float64\n",
       "main_temp_max                   float64\n",
       "main_temp_min                   float64\n",
       "main_pressure                     int64\n",
       "main_humidity                     int64\n",
       "wind_speed                      float64\n",
       "dt                       datetime64[ns]\n",
       "test1                            object\n",
       "dtype: object"
      ]
     },
     "metadata": {},
     "execution_count": 24
    }
   ],
   "source": [
    "df.dtypes"
   ]
  },
  {
   "cell_type": "code",
   "execution_count": 25,
   "metadata": {},
   "outputs": [],
   "source": [
    "df=df=df.drop([\"test1\"],axis=1)"
   ]
  },
  {
   "cell_type": "code",
   "execution_count": 26,
   "metadata": {},
   "outputs": [
    {
     "output_type": "execute_result",
     "data": {
      "text/plain": [
       "   number  available_bike_stands  available_bikes  weather_id weather_main  \\\n",
       "0      58                     29               11         803       Clouds   \n",
       "1      19                     23                7         803       Clouds   \n",
       "2      61                     18                7         800        Clear   \n",
       "3      53                     37                3         803       Clouds   \n",
       "4      98                     40                0         801       Clouds   \n",
       "\n",
       "   main_temp  main_feels_like  main_temp_max  main_temp_min  main_pressure  \\\n",
       "0     280.78           274.91         281.15         280.15           1034   \n",
       "1     281.16           278.41         282.04         280.15           1026   \n",
       "2     280.22           276.22         280.93         278.71           1013   \n",
       "3     278.85           275.54         279.26         278.15           1032   \n",
       "4     286.17           285.15         286.48         285.37           1026   \n",
       "\n",
       "   main_humidity  wind_speed                  dt  \n",
       "0             71        6.17 2021-02-04 12:13:00  \n",
       "1             76        2.06 2021-03-22 05:29:00  \n",
       "2             87        4.12 2021-03-25 04:18:00  \n",
       "3             81        4.63 2021-02-04 07:18:00  \n",
       "4             62        8.23 2021-04-04 13:35:00  "
      ],
      "text/html": "<div>\n<style scoped>\n    .dataframe tbody tr th:only-of-type {\n        vertical-align: middle;\n    }\n\n    .dataframe tbody tr th {\n        vertical-align: top;\n    }\n\n    .dataframe thead th {\n        text-align: right;\n    }\n</style>\n<table border=\"1\" class=\"dataframe\">\n  <thead>\n    <tr style=\"text-align: right;\">\n      <th></th>\n      <th>number</th>\n      <th>available_bike_stands</th>\n      <th>available_bikes</th>\n      <th>weather_id</th>\n      <th>weather_main</th>\n      <th>main_temp</th>\n      <th>main_feels_like</th>\n      <th>main_temp_max</th>\n      <th>main_temp_min</th>\n      <th>main_pressure</th>\n      <th>main_humidity</th>\n      <th>wind_speed</th>\n      <th>dt</th>\n    </tr>\n  </thead>\n  <tbody>\n    <tr>\n      <th>0</th>\n      <td>58</td>\n      <td>29</td>\n      <td>11</td>\n      <td>803</td>\n      <td>Clouds</td>\n      <td>280.78</td>\n      <td>274.91</td>\n      <td>281.15</td>\n      <td>280.15</td>\n      <td>1034</td>\n      <td>71</td>\n      <td>6.17</td>\n      <td>2021-02-04 12:13:00</td>\n    </tr>\n    <tr>\n      <th>1</th>\n      <td>19</td>\n      <td>23</td>\n      <td>7</td>\n      <td>803</td>\n      <td>Clouds</td>\n      <td>281.16</td>\n      <td>278.41</td>\n      <td>282.04</td>\n      <td>280.15</td>\n      <td>1026</td>\n      <td>76</td>\n      <td>2.06</td>\n      <td>2021-03-22 05:29:00</td>\n    </tr>\n    <tr>\n      <th>2</th>\n      <td>61</td>\n      <td>18</td>\n      <td>7</td>\n      <td>800</td>\n      <td>Clear</td>\n      <td>280.22</td>\n      <td>276.22</td>\n      <td>280.93</td>\n      <td>278.71</td>\n      <td>1013</td>\n      <td>87</td>\n      <td>4.12</td>\n      <td>2021-03-25 04:18:00</td>\n    </tr>\n    <tr>\n      <th>3</th>\n      <td>53</td>\n      <td>37</td>\n      <td>3</td>\n      <td>803</td>\n      <td>Clouds</td>\n      <td>278.85</td>\n      <td>275.54</td>\n      <td>279.26</td>\n      <td>278.15</td>\n      <td>1032</td>\n      <td>81</td>\n      <td>4.63</td>\n      <td>2021-02-04 07:18:00</td>\n    </tr>\n    <tr>\n      <th>4</th>\n      <td>98</td>\n      <td>40</td>\n      <td>0</td>\n      <td>801</td>\n      <td>Clouds</td>\n      <td>286.17</td>\n      <td>285.15</td>\n      <td>286.48</td>\n      <td>285.37</td>\n      <td>1026</td>\n      <td>62</td>\n      <td>8.23</td>\n      <td>2021-04-04 13:35:00</td>\n    </tr>\n  </tbody>\n</table>\n</div>"
     },
     "metadata": {},
     "execution_count": 26
    }
   ],
   "source": [
    "df.head()"
   ]
  },
  {
   "cell_type": "code",
   "execution_count": 27,
   "metadata": {},
   "outputs": [
    {
     "output_type": "execute_result",
     "data": {
      "text/plain": [
       "110"
      ]
     },
     "metadata": {},
     "execution_count": 27
    }
   ],
   "source": [
    "dups_number=df.pivot_table(index=['number'], aggfunc='size')\n",
    "len(dups_number)"
   ]
  },
  {
   "cell_type": "code",
   "execution_count": 28,
   "metadata": {},
   "outputs": [],
   "source": [
    "# expect there will be duplicates for a lot of rows no issues in this kind of data as it is expected. "
   ]
  },
  {
   "cell_type": "code",
   "execution_count": 29,
   "metadata": {},
   "outputs": [
    {
     "output_type": "execute_result",
     "data": {
      "text/plain": [
       "number                   0\n",
       "available_bike_stands    0\n",
       "available_bikes          0\n",
       "weather_id               0\n",
       "weather_main             0\n",
       "main_temp                0\n",
       "main_feels_like          0\n",
       "main_temp_max            0\n",
       "main_temp_min            0\n",
       "main_pressure            0\n",
       "main_humidity            0\n",
       "wind_speed               0\n",
       "dt                       0\n",
       "dtype: int64"
      ]
     },
     "metadata": {},
     "execution_count": 29
    }
   ],
   "source": [
    "#checking for Nan values. \n",
    "df.isna().sum()"
   ]
  },
  {
   "cell_type": "code",
   "execution_count": 30,
   "metadata": {},
   "outputs": [
    {
     "output_type": "execute_result",
     "data": {
      "text/plain": [
       "Clouds     317063\n",
       "Clear       20659\n",
       "Rain        15379\n",
       "Mist          892\n",
       "Drizzle       579\n",
       "Name: weather_main, dtype: int64"
      ]
     },
     "metadata": {},
     "execution_count": 30
    }
   ],
   "source": [
    "#lookign for constant values - 5 categories total. \n",
    "#clounds most common then clear\n",
    "#drizzle least common. \n",
    "df[\"weather_main\"].value_counts() "
   ]
  },
  {
   "cell_type": "code",
   "execution_count": 31,
   "metadata": {},
   "outputs": [
    {
     "output_type": "execute_result",
     "data": {
      "text/plain": [
       "array([ 58,  19,  61,  53,  98,  71, 100,  34,  42,  94,  75,  47, 113,\n",
       "        59,  51,  26,  39,  55,  79,  21,  64,  24,  97,  31,  83,  33,\n",
       "        41,  96,   5,  74,  32,  25,  73, 101,  68,  13,  82,  36,  80,\n",
       "       109,  17,  72,  29,  99,  69, 103,  77,   7,  23,  93, 110,  57,\n",
       "        84,  88,   3,  56,  12,  92,   9, 116,  11,  89,   8,  67,  27,\n",
       "        76,  87,  44,  86,  30,  15,  43, 117,  85, 106, 112,  22,  18,\n",
       "        52, 114, 105,  65,  90,  45,  49,  63,  40,  78, 104,  28,  48,\n",
       "        95,  10,  91, 115,  50,   6,  37, 108, 107,  62,   2,  54, 102,\n",
       "       111,  66,  38,  16,   4, 507], dtype=int64)"
      ]
     },
     "metadata": {},
     "execution_count": 31
    }
   ],
   "source": [
    "df['number'].unique()"
   ]
  },
  {
   "cell_type": "code",
   "execution_count": 32,
   "metadata": {},
   "outputs": [
    {
     "output_type": "execute_result",
     "data": {
      "text/plain": [
       "array([803, 800, 801, 501, 802, 500, 804, 701, 300], dtype=int64)"
      ]
     },
     "metadata": {},
     "execution_count": 32
    }
   ],
   "source": [
    "df['weather_id'].unique()"
   ]
  },
  {
   "cell_type": "code",
   "execution_count": 33,
   "metadata": {},
   "outputs": [
    {
     "output_type": "execute_result",
     "data": {
      "text/plain": [
       "array([1034, 1026, 1013, 1032, 1020, 1002, 1019, 1018, 1033, 1023, 1024,\n",
       "        999, 1000, 1004, 1009, 1012, 1015, 1029, 1014, 1030, 1016, 1021,\n",
       "       1001, 1011, 1017, 1035, 1022, 1028, 1025, 1010, 1006, 1003, 1007,\n",
       "       1008, 1031, 1036, 1027,  998, 1005,  997], dtype=int64)"
      ]
     },
     "metadata": {},
     "execution_count": 33
    }
   ],
   "source": [
    "df['main_pressure'].unique()"
   ]
  },
  {
   "cell_type": "code",
   "execution_count": 34,
   "metadata": {},
   "outputs": [
    {
     "output_type": "execute_result",
     "data": {
      "text/plain": [
       "array([ 71,  76,  87,  81,  62,  61,  66,  57,  82,  67,  93,  75,  72,\n",
       "        77, 100,  80,  70,  86,  58,  63,  88,  65], dtype=int64)"
      ]
     },
     "metadata": {},
     "execution_count": 34
    }
   ],
   "source": [
    "df['main_humidity'].unique()"
   ]
  },
  {
   "cell_type": "code",
   "execution_count": 35,
   "metadata": {},
   "outputs": [
    {
     "output_type": "execute_result",
     "data": {
      "text/plain": [
       "array([ 6.17,  2.06,  4.12,  4.63,  8.23,  6.69,  3.6 ,  5.66,  3.09,\n",
       "        2.57,  9.26,  5.14,  1.54,  7.72,  8.75,  7.2 ,  9.77,  1.03,\n",
       "       10.29, 10.8 , 12.86,  0.51,  0.82, 11.83, 11.32])"
      ]
     },
     "metadata": {},
     "execution_count": 35
    }
   ],
   "source": [
    "df['wind_speed'].unique()\n"
   ]
  },
  {
   "cell_type": "code",
   "execution_count": 36,
   "metadata": {},
   "outputs": [
    {
     "output_type": "execute_result",
     "data": {
      "text/plain": [
       "array([274.91, 278.41, 276.22, ..., 281.86, 272.76, 275.63])"
      ]
     },
     "metadata": {},
     "execution_count": 36
    }
   ],
   "source": [
    "df['main_feels_like'].unique()\n"
   ]
  },
  {
   "cell_type": "code",
   "execution_count": null,
   "metadata": {},
   "outputs": [],
   "source": []
  }
 ],
 "metadata": {
  "kernelspec": {
   "name": "python385jvsc74a57bd0158dcff735c51ddc653f608d3d365f48affd2708fb054892ef5065855a3a1656",
   "display_name": "Python 3.8.5 32-bit"
  },
  "language_info": {
   "codemirror_mode": {
    "name": "ipython",
    "version": 3
   },
   "file_extension": ".py",
   "mimetype": "text/x-python",
   "name": "python",
   "nbconvert_exporter": "python",
   "pygments_lexer": "ipython3",
   "version": "3.8.5-final"
  },
  "metadata": {
   "interpreter": {
    "hash": "158dcff735c51ddc653f608d3d365f48affd2708fb054892ef5065855a3a1656"
   }
  }
 },
 "nbformat": 4,
 "nbformat_minor": 4
}