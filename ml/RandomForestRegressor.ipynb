{
 "cells": [
  {
   "cell_type": "code",
   "execution_count": 3,
   "id": "central-adventure",
   "metadata": {},
   "outputs": [],
   "source": [
    "from sklearn.ensemble import RandomForestRegressor\n",
    "from sklearn.model_selection import train_test_split\n",
    "import pandas as pd\n",
    "from joblib import dump, load\n",
    "import numpy as np\n",
    "from datetime import datetime"
   ]
  },
  {
   "cell_type": "code",
   "execution_count": 2,
   "id": "brazilian-furniture",
   "metadata": {},
   "outputs": [],
   "source": [
    "# Get from rachtest.csv -> leteamcleaned.csv\n",
    "df = pd.read_csv(\"rachtest.csv\")\n",
    "df = df.drop(['weather_id', 'main_feels_like', 'main_temp_max', 'main_temp_min', 'main_pressure', 'main_humidity', 'test1'], 1)\n",
    "df = df.rename(columns={\"number\": \"station_number\", \"main_temp\": \"temp\"})\n",
    "\n",
    "# categorical -> continuous\n",
    "cleanup_nums = {\"weather_main\": {\"Clouds\": 0, \"Clear\": 3, \"Rain\": 2, \"Mist\": 0, \"Drizzle\": 1}}\n",
    "df = df.replace(cleanup_nums)\n",
    "\n",
    "# splitting datetime up\n",
    "df['Date_time'] = df['dt'].astype('datetime64[ns]')\n",
    "df['hour'] = df.Date_time.dt.hour\n",
    "df['day'] = df.Date_time.dt.weekday\n",
    "\n",
    "df = df.drop(['dt', 'Date_time'], 1)\n",
    "\n",
    "df.to_csv('leteamcleaned.csv') # , index=False"
   ]
  },
  {
   "cell_type": "code",
   "execution_count": null,
   "id": "interpreted-cannon",
   "metadata": {},
   "outputs": [],
   "source": [
    "\tstation_number\tavailable_bike_stands\tavailable_bikes\tweather_main\ttemp\twind_speed\thour\tday\n",
    "569\t    2\t            11\t                    9\t             0\t        280.77\t   4.63\t    4\t    1\n",
    "1034\t2\t             14\t                    5\t             2\t        285.47\t    6.69\t13\t    2\n",
    "348310\t26\t            5\t                    15\t             0\t        281.42\t   2.57\t     5\t     2\n",
    "430183\t67\t            2\t                    37\t             3\t         279.94\t    5.14\t20\t     3\n",
    "440510\t73\t            27\t                     3\t              0\t        283.5\t    5.14\t  3\t     1\n",
    "531852\t117\t            39\t                     1 \t               0\t    286.65\t    9.26\t  15\t 6"
   ]
  },
  {
   "cell_type": "code",
   "execution_count": 4,
   "id": "needed-buffer",
   "metadata": {},
   "outputs": [],
   "source": [
    "df = pd.read_csv(\"leteamcleanedremoved.csv\")"
   ]
  },
  {
   "cell_type": "code",
   "execution_count": 7,
   "id": "universal-programmer",
   "metadata": {},
   "outputs": [],
   "source": [
    "def create_models(df):\n",
    "    station_numbers = df.station_number.unique()\n",
    "    for station_number in station_numbers:  # [26, 67, 73, 117]\n",
    "        # select the records for that station number only \n",
    "        data = df.loc[df['station_number'] == station_number]\n",
    "\n",
    "        features_training = [\"station_number\", \"day\", \"hour\", 'weather_main', 'temp', 'wind_speed']\n",
    "        feature_target1 = ['available_bikes']\n",
    "        feature_target2 = ['available_bike_stands']\n",
    "\n",
    "        train_features1, test_features1, train_labels1, test_labels1 = train_test_split(data[features_training], data[feature_target1], test_size=0.3)\n",
    "        train_features2, test_features2, train_labels2, test_labels2 = train_test_split(data[features_training], data[feature_target2], test_size=0.3)\n",
    "\n",
    "        rfr1 = RandomForestRegressor(n_estimators=10, random_state=0, max_depth=28, max_features=4) \n",
    "        rfr1 = rfr1.fit(train_features1, train_labels1.available_bikes)\n",
    "\n",
    "        rfr2 = RandomForestRegressor(n_estimators=10, random_state=0, max_depth=27, max_features=4)\n",
    "        rfr2 = rfr2.fit(train_features2, train_labels2.available_bike_stands)\n",
    "\n",
    "        dump(rfr1, 'models/available_bikes_station_' + str(station_number) + '.joblib')\n",
    "        dump(rfr2, 'models/available_bike_stands_station_' + str(station_number) + '.joblib')"
   ]
  },
  {
   "cell_type": "code",
   "execution_count": 8,
   "id": "grave-demand",
   "metadata": {},
   "outputs": [],
   "source": [
    "create_models(df)"
   ]
  },
  {
   "cell_type": "code",
   "execution_count": 1,
   "id": "joined-progress",
   "metadata": {},
   "outputs": [],
   "source": [
    "def printRes(arr):\n",
    "    train_data = []\n",
    "    train_data.append(arr)  \n",
    "    rfr1 = load('models/available_bikes_station_' + str(arr[0]) + '.joblib')\n",
    "    available_bike = rfr1.predict(train_data)\n",
    "    print(int(available_bike))\n",
    "\n",
    "    rfr2 = load('models/available_bike_stands_station_' + str(arr[0]) + '.joblib')\n",
    "    available_stands = rfr2.predict(train_data)\n",
    "    print(int(available_stands))"
   ]
  },
  {
   "cell_type": "markdown",
   "id": "adolescent-caribbean",
   "metadata": {},
   "source": [
    "Records removed from csv"
   ]
  },
  {
   "cell_type": "code",
   "execution_count": 10,
   "id": "political-proof",
   "metadata": {},
   "outputs": [
    {
     "name": "stdout",
     "output_type": "stream",
     "text": [
      "9\n",
      "11\n"
     ]
    }
   ],
   "source": [
    "# Available_bikes 9 , Available_bike_stands 11\n",
    "arr = [2, 1, 4, 0, 280.77, 4.63]\n",
    "printRes(arr)"
   ]
  },
  {
   "cell_type": "code",
   "execution_count": 11,
   "id": "cleared-snowboard",
   "metadata": {},
   "outputs": [
    {
     "name": "stdout",
     "output_type": "stream",
     "text": [
      "5\n",
      "13\n"
     ]
    }
   ],
   "source": [
    "# Available_bikes 5 , Available_bike_stands 14\n",
    "arr = [2, 2, 13, 2, 285.47, 6.69]\n",
    "printRes(arr)"
   ]
  },
  {
   "cell_type": "code",
   "execution_count": 12,
   "id": "right-bankruptcy",
   "metadata": {},
   "outputs": [
    {
     "name": "stdout",
     "output_type": "stream",
     "text": [
      "15\n",
      "5\n"
     ]
    }
   ],
   "source": [
    "# Available_bikes 15 , Available_bike_stands 5\n",
    "arr = [26, 2, 5, 0, 281.42, 2.57]\n",
    "printRes(arr)"
   ]
  },
  {
   "cell_type": "code",
   "execution_count": 13,
   "id": "civic-phase",
   "metadata": {},
   "outputs": [
    {
     "name": "stdout",
     "output_type": "stream",
     "text": [
      "36\n",
      "2\n"
     ]
    }
   ],
   "source": [
    "# Available_bikes 37 , Available_bike_stands 2\n",
    "arr = [67, 3, 20, 3, 279.94, 5.14]\n",
    "printRes(arr)"
   ]
  },
  {
   "cell_type": "code",
   "execution_count": 14,
   "id": "incoming-flexibility",
   "metadata": {},
   "outputs": [
    {
     "name": "stdout",
     "output_type": "stream",
     "text": [
      "3\n",
      "27\n"
     ]
    }
   ],
   "source": [
    "# Available_bikes 3 , Available_bike_stands 27\n",
    "arr = [73, 1, 3, 0,  283.5, 5.14]\n",
    "printRes(arr)"
   ]
  },
  {
   "cell_type": "code",
   "execution_count": 15,
   "id": "portuguese-blackberry",
   "metadata": {},
   "outputs": [
    {
     "name": "stdout",
     "output_type": "stream",
     "text": [
      "1\n",
      "38\n"
     ]
    }
   ],
   "source": [
    "# Available_bikes 1 , Available_bike_stands 39\n",
    "arr = [117, 6, 15, 0, 286.65, 9.26]\n",
    "printRes(arr)"
   ]
  },
  {
   "cell_type": "markdown",
   "id": "bottom-clark",
   "metadata": {},
   "source": [
    "Right now (06/04/2021 6pm) looking at app!!"
   ]
  },
  {
   "cell_type": "code",
   "execution_count": 17,
   "id": "corresponding-federation",
   "metadata": {},
   "outputs": [
    {
     "name": "stdout",
     "output_type": "stream",
     "text": [
      "24\n",
      "23\n"
     ]
    }
   ],
   "source": [
    "# Available_bikes 17 , Available_bike_stands 23\n",
    "#[\"station_number\", \"day\", \"hour\", 'weather_main', 'temp', 'wind_speed']\n",
    "#[\"TALBOT STREET\", \"Tuesday\", \"5:50pm\", 'Clouds', 'temp', 'wind_speed']\n",
    "arr = [38, 2, 18, 0, 280.17, 9.26]\n",
    "printRes(arr)"
   ]
  },
  {
   "cell_type": "code",
   "execution_count": 18,
   "id": "designed-reproduction",
   "metadata": {},
   "outputs": [
    {
     "name": "stdout",
     "output_type": "stream",
     "text": [
      "10\n",
      "27\n"
     ]
    }
   ],
   "source": [
    "# COLLINS BARRACKS MUSEUM\n",
    "# Available_bikes 8 , Available_bike_stands 30\n",
    "arr = [87, 2, 18, 0, 280.17, 9.26]\n",
    "printRes(arr)"
   ]
  },
  {
   "cell_type": "code",
   "execution_count": null,
   "id": "available-kennedy",
   "metadata": {},
   "outputs": [],
   "source": [
    "# COLLINS BARRACKS MUSEUM\n",
    "# Available_bikes 8 , Available_bike_stands 30\n",
    "arr = [87, 2, 18, 0, 280.17, 9.26]\n",
    "printRes(arr)"
   ]
  },
  {
   "cell_type": "code",
   "execution_count": 19,
   "id": "central-retrieval",
   "metadata": {},
   "outputs": [
    {
     "name": "stdout",
     "output_type": "stream",
     "text": [
      "11\n",
      "27\n"
     ]
    }
   ],
   "source": [
    "# GRANGEGORMAN LOWER (CENTRAL)\n",
    "# Available_bikes 11 , Available_bike_stands 29\n",
    "arr = [104, 2, 18, 0, 280.17, 9.26]\n",
    "printRes(arr)"
   ]
  },
  {
   "cell_type": "markdown",
   "id": "stone-stephen",
   "metadata": {},
   "source": [
    "End to end testing"
   ]
  },
  {
   "cell_type": "code",
   "execution_count": 26,
   "id": "competitive-forge",
   "metadata": {},
   "outputs": [
    {
     "name": "stdout",
     "output_type": "stream",
     "text": [
      "20\n",
      "22\n"
     ]
    }
   ],
   "source": [
    "#[\"station_number\", \"day\", \"hour\", 'weather_main', 'temp', 'wind_speed']\n",
    "# 2021-04-13 17:41:00\n",
    "# Rain = 2 \n",
    "# temp_eve = '282.84'\n",
    "# /predict/67/1/17/Rain/282.84/4.73\n",
    "arr = [67, 1, 17, 2, 282.84, 4.73]\n",
    "printRes(arr)"
   ]
  }
 ],
 "metadata": {
  "kernelspec": {
   "display_name": "Python 3",
   "language": "python",
   "name": "python3"
  },
  "language_info": {
   "codemirror_mode": {
    "name": "ipython",
    "version": 3
   },
   "file_extension": ".py",
   "mimetype": "text/x-python",
   "name": "python",
   "nbconvert_exporter": "python",
   "pygments_lexer": "ipython3",
   "version": "3.8.5"
  }
 },
 "nbformat": 4,
 "nbformat_minor": 5
}
